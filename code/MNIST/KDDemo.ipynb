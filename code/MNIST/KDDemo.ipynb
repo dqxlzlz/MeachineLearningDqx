{
 "cells": [
  {
   "cell_type": "code",
   "execution_count": 2,
   "id": "7e2d6266-3a91-4756-8ee4-a67c3a7bca07",
   "metadata": {},
   "outputs": [
    {
     "name": "stdout",
     "output_type": "stream",
     "text": [
      "1.12.0+cu113\n"
     ]
    }
   ],
   "source": [
    "import torch\n",
    "import torch.nn as nn\n",
    "import torch.nn.functional as F\n",
    "import torchvision\n",
    "from torchvision import transforms\n",
    "from torch.utils.data import DataLoader\n",
    "from torchinfo import summary\n",
    "print(torch.__version__)"
   ]
  },
  {
   "cell_type": "code",
   "execution_count": null,
   "id": "6ff21d77-2a17-4a51-9254-913da781ed77",
   "metadata": {
    "is_executing": true
   },
   "outputs": [],
   "source": [
    "# 设置随机种子的目的是为了确保实验的可重复性。在许多深度学习任务中，随机性是一个重要的因素。例如，初始化神经网络的权重或在训练时打乱数据集。通过固定随机种子，您可以确保每次运行代码时都会得到相同的结果。\n",
    "# 设置随机种子\n",
    "torch.manual_seed(0)\n",
    "device = torch.device(\"cuda\" if torch.cuda.is_available() else \"cpu\")\n",
    "# 使用cuda进行加速卷积运算\n",
    "torch.backends.cudnn.benchmark = True\n",
    "# 载入训练集\n",
    "\n",
    "# batch_size是指用于训练神经网络时一次性输入模型的样本数量。Batch size的设置会影响模型训练的速度和准确性。较小的batch size可能会导致训练速度较慢，但可以提供更精确的梯度估计。较大的batch size可以加速训练，但可能导致梯度估计不准确。选择合适的batch size取决于任务、模型和计算资源。\n",
    "train_dataset = torchvision.datasets.MNIST(root=\"dataset/\", train=True, transform=transforms.ToTensor(), download=True)\n",
    "test_dateset = torchvision.datasets.MNIST(root=\"dataset/\", train=False, transform=transforms.ToTensor(), download=True)\n",
    "train_dataloder = DataLoader(train_dataset, batch_size=32, shuffle=True)\n",
    "test_dataloder = DataLoader(test_dateset, batch_size=32, shuffle=True)\n"
   ]
  },
  {
   "cell_type": "code",
   "execution_count": 4,
   "id": "b89aa8d5-1d49-4594-86cf-a42f01f71326",
   "metadata": {},
   "outputs": [],
   "source": [
    "# teacher model build\n",
    "class Teacher_model(nn.Module):\n",
    "    def __init__(self,in_channels=1,num_class=10):\n",
    "        super(Teacher_model,self).__init__()\n",
    "        self.fc1 = nn.Linear(784,1200)\n",
    "        self.fc2 = nn.Linear(1200,1200)\n",
    "        self.fc3 = nn.Linear(1200,10)\n",
    "        self.relu = nn.ReLU()\n",
    "        self.dropout = nn.Dropout(0.5)\n",
    "        \n",
    "    def forward(self,x):\n",
    "        x = x.view(-1,784)\n",
    "        x = self.fc1(x)\n",
    "        x = self.dropout(x)\n",
    "        x = self.relu(x)\n",
    "        x = self.fc2(x)\n",
    "        x = self.dropout(x)\n",
    "        x = self.relu(x)\n",
    "        x = self.fc3(x)\n",
    "        return x\n",
    "\n",
    "model = Teacher_model()\n",
    "model = model.to(device)\n",
    "loss_function = nn.CrossEntropyLoss()\n",
    "optim = torch.optim.Adam(model.parameters(), lr=0.0001)"
   ]
  },
  {
   "cell_type": "code",
   "execution_count": 5,
   "id": "c2731808-1bc1-434b-b950-510466d88c13",
   "metadata": {},
   "outputs": [
    {
     "name": "stdout",
     "output_type": "stream",
     "text": [
      "epoches:0,accurate=0.9407999515533447\n",
      "epoches:1,accurate=0.9608999490737915\n",
      "epoches:2,accurate=0.9681999683380127\n",
      "epoches:3,accurate=0.9736999869346619\n",
      "epoches:4,accurate=0.9777999520301819\n",
      "epoches:5,accurate=0.9789999723434448\n"
     ]
    }
   ],
   "source": [
    "# begin training teacher model\n",
    "epoches=6\n",
    "for epoch in range(epoches):\n",
    "    model.train()\n",
    "    for image,label in train_dataloder:\n",
    "        # load the label to GPU\n",
    "        image,label = image.to(device),label.to(device)\n",
    "        optim.zero_grad()\n",
    "        out = model(image)\n",
    "        loss = loss_function(out,label)\n",
    "        loss.backward()\n",
    "        optim.step()\n",
    "    \n",
    "#     evalute the model\n",
    "    model.eval()\n",
    "    num_correct = 0\n",
    "    num_samples = 0\n",
    "    with torch.no_grad():\n",
    "        for image,label in test_dataloder:\n",
    "            image = image .to(device)\n",
    "            label = label.to(device)\n",
    "            out = model(image)\n",
    "            pre = out.max(1).indices\n",
    "            num_correct += (pre == label).sum()\n",
    "            num_samples += pre.size(0)\n",
    "        acc = (num_correct / num_samples).item()\n",
    "    model.train()\n",
    "    print(\"epoches:{},accurate={}\".format(epoch, acc))\n",
    "\n",
    "teacher_model = model\n"
   ]
  },
  {
   "cell_type": "code",
   "execution_count": 6,
   "id": "d8b2d36e-84d0-4dae-9048-e7b9b5f724ff",
   "metadata": {},
   "outputs": [],
   "source": [
    "# student model \n",
    "class Student_model(nn.Module):\n",
    "    def __init__(self,in_channels = 1,num_class = 10):\n",
    "        super(Student_model, self).__init__()\n",
    "        self.fc1 = nn.Linear(784, 20)\n",
    "        self.fc2 = nn.Linear(20, 20)\n",
    "        self.fc3 = nn.Linear(20, 10)\n",
    "        self.relu = nn.ReLU()\n",
    "        \n",
    "    def forward(self, x):\n",
    "        x = x.view(-1, 784)\n",
    "        x = self.fc1(x)\n",
    "        # x = self.dropout(x)\n",
    "        x = self.relu(x)\n",
    "        x = self.fc2(x)\n",
    "        # x = self.dropout(x)\n",
    "        x = self.relu(x)\n",
    "        x = self.fc3(x)\n",
    "        return x\n",
    "    \n",
    "model = Student_model()\n",
    "model = model.to(device)\n",
    "\n",
    "# 损失函数和优化器\n",
    "loss_function = nn.CrossEntropyLoss()\n",
    "optim = torch.optim.Adam(model.parameters(), lr=0.0001)\n",
    "\n"
   ]
  },
  {
   "cell_type": "code",
   "execution_count": 8,
   "id": "38322364-3569-42ef-8e56-9972bf824f23",
   "metadata": {},
   "outputs": [
    {
     "name": "stdout",
     "output_type": "stream",
     "text": [
      "epoches:0,accurate=0.8671000003814697\n",
      "epoches:1,accurate=0.8970999717712402\n",
      "epoches:2,accurate=0.9088000059127808\n",
      "epoches:3,accurate=0.9139999747276306\n",
      "epoches:4,accurate=0.9182999730110168\n",
      "epoches:5,accurate=0.9218999743461609\n"
     ]
    }
   ],
   "source": [
    "epoches = 6\n",
    "for epoch in range(epoches):\n",
    "    model.train()\n",
    "    for image,label in train_dataloder:\n",
    "        image,label = image.to(device),label.to(device)\n",
    "        optim.zero_grad()\n",
    "        out = model(image)\n",
    "        loss = loss_function(out,label)\n",
    "        loss.backward()\n",
    "        optim.step()\n",
    "\n",
    "    model.eval()\n",
    "    num_correct = 0\n",
    "    num_samples = 0\n",
    "    with torch.no_grad():\n",
    "        for image,label in test_dataloder:\n",
    "            image = image .to(device)\n",
    "            label = label.to(device)\n",
    "            out = model(image)\n",
    "            pre = out.max(1).indices\n",
    "            num_correct += (pre == label).sum()\n",
    "            num_samples += pre.size(0)\n",
    "        acc = (num_correct / num_samples).item()\n",
    "    model.train()\n",
    "    print(\"epoches:{},accurate={}\".format(epoch, acc))"
   ]
  },
  {
   "cell_type": "code",
   "execution_count": 9,
   "id": "63d36013-5bcd-45c3-92a6-dd26982db53c",
   "metadata": {},
   "outputs": [],
   "source": [
    "# 开始KD\n",
    "# set the param\n",
    "teacher_model.eval()\n",
    "model=Student_model()\n",
    "model=model.to(device)\n",
    "\n",
    "# distillation temperature\n",
    "T = 7\n",
    "hard_loss = nn.CrossEntropyLoss()\n",
    "alpha = 0.3\n",
    "soft_loss = nn.KLDivLoss(reduction=\"batchmean\")\n",
    "optim=torch.optim.Adam(model.parameters(),lr=0.0001)"
   ]
  },
  {
   "cell_type": "code",
   "execution_count": 11,
   "id": "edca7eed-738f-49e8-afba-fb869802a973",
   "metadata": {},
   "outputs": [
    {
     "name": "stdout",
     "output_type": "stream",
     "text": [
      "epoches:0,accurate=0.8514999747276306\n",
      "epoches:1,accurate=0.8851000070571899\n",
      "epoches:2,accurate=0.8989999890327454\n",
      "epoches:3,accurate=0.9062999486923218\n",
      "epoches:4,accurate=0.9132999777793884\n"
     ]
    }
   ],
   "source": [
    "# training KD\n",
    "epoches=5\n",
    "for epoch in range(epoches):\n",
    "    model.train()\n",
    "    for image,label in train_dataloder:\n",
    "        image,label = image.to(device),label.to(device)\n",
    "        with torch.no_grad():\n",
    "            teacher_output = teacher_model(image)\n",
    "        optim.zero_grad()\n",
    "        out=model(image)\n",
    "        loss=hard_loss(out,label)\n",
    "        ditillation_loss=soft_loss(F.softmax(out/T,dim=1),F.softmax(teacher_output/T,dim=1))\n",
    "        loss_all=loss*alpha+ditillation_loss*(1-alpha)\n",
    "        loss.backward()\n",
    "        optim.step()\n",
    "    \n",
    "    model.eval()\n",
    "    num_correct=0\n",
    "    num_samples=0\n",
    "    with torch.no_grad():\n",
    "        for image,label in test_dataloder:\n",
    "            image=image.to(device)\n",
    "            label=label.to(device)\n",
    "            out=model(image)\n",
    "            pre=out.max(1).indices\n",
    "            num_correct+=(pre==label).sum()\n",
    "            num_samples+=pre.size(0)\n",
    "        acc=(num_correct/num_samples).item()\n",
    " \n",
    "    model.train()\n",
    "    print(\"epoches:{},accurate={}\".format(epoch,acc))\n",
    "    "
   ]
  },
  {
   "cell_type": "code",
   "execution_count": null,
   "id": "3da46c80-13bb-4afd-90c6-417460d54355",
   "metadata": {},
   "outputs": [],
   "source": []
  }
 ],
 "metadata": {
  "kernelspec": {
   "display_name": "Python 3 (ipykernel)",
   "language": "python",
   "name": "python3"
  },
  "language_info": {
   "codemirror_mode": {
    "name": "ipython",
    "version": 3
   },
   "file_extension": ".py",
   "mimetype": "text/x-python",
   "name": "python",
   "nbconvert_exporter": "python",
   "pygments_lexer": "ipython3",
   "version": "3.8.10"
  }
 },
 "nbformat": 4,
 "nbformat_minor": 5
}
